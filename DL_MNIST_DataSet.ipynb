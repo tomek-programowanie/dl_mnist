{
 "cells": [
  {
   "cell_type": "markdown",
   "metadata": {
    "id": "EAlFdMuLiidr"
   },
   "source": [
    "# Import libraries"
   ]
  },
  {
   "cell_type": "code",
   "execution_count": 47,
   "metadata": {
    "id": "1mbSaRtYWIbU"
   },
   "outputs": [],
   "source": [
    "%%capture\n",
    "import tensorflow as tf\n",
    "import matplotlib.pyplot as plt\n",
    "import pandas as pd\n",
    "import numpy as np\n",
    "\n",
    "from keras.utils import to_categorical\n",
    "from keras.datasets import mnist\n",
    "from keras import models, layers"
   ]
  },
  {
   "cell_type": "markdown",
   "metadata": {
    "id": "bhsig3v9bV0f"
   },
   "source": [
    "# Load the Data\n"
   ]
  },
  {
   "cell_type": "code",
   "execution_count": 48,
   "metadata": {
    "colab": {
     "base_uri": "https://localhost:8080/"
    },
    "id": "2xDKocqJbXRR",
    "outputId": "0899b47a-e8e5-4709-eabb-351feb211fc3"
   },
   "outputs": [
    {
     "name": "stdout",
     "output_type": "stream",
     "text": [
      "(60000, 28, 28)\n",
      "(10000, 28, 28)\n"
     ]
    }
   ],
   "source": [
    "(X_train, y_train), (X_test, y_test) = mnist.load_data()\n",
    "print(X_train.shape)\n",
    "print(X_test.shape)"
   ]
  },
  {
   "cell_type": "markdown",
   "metadata": {
    "id": "34U7RtnriaUd"
   },
   "source": [
    "# Take a look into Data"
   ]
  },
  {
   "cell_type": "code",
   "execution_count": 49,
   "metadata": {
    "colab": {
     "base_uri": "https://localhost:8080/"
    },
    "id": "A4hg4uYoc_5w",
    "outputId": "279f75d4-ae84-4323-e68c-d7f472f5cf69"
   },
   "outputs": [
    {
     "name": "stdout",
     "output_type": "stream",
     "text": [
      "3\n",
      "(60000, 28, 28)\n"
     ]
    }
   ],
   "source": [
    "print(X_train.ndim)\n",
    "print(X_train.shape)"
   ]
  },
  {
   "cell_type": "code",
   "execution_count": 50,
   "metadata": {
    "colab": {
     "base_uri": "https://localhost:8080/",
     "height": 355
    },
    "id": "4Q2IOTdmhmqc",
    "outputId": "bb52b967-7616-4887-8eef-e5265208d4ef"
   },
   "outputs": [
    {
     "data": {
      "text/plain": [
       "<Figure size 432x288 with 0 Axes>"
      ]
     },
     "metadata": {},
     "output_type": "display_data"
    },
    {
     "data": {
      "image/png": "[encoded data removed]",
      "text/plain": [
       "<Figure size 432x288 with 4 Axes>"
      ]
     },
     "metadata": {
      "needs_background": "light"
     },
     "output_type": "display_data"
    },
    {
     "name": "stdout",
     "output_type": "stream",
     "text": [
      "0\n",
      "4\n",
      "1\n",
      "9\n"
     ]
    }
   ],
   "source": [
    "plt.figure()\n",
    "\n",
    "#subplot(r,c) provide the no. of rows and columns\n",
    "f, axarr = plt.subplots(2,2) \n",
    "\n",
    "# use the created array to output your multiple images.\n",
    "axarr[0][0].imshow(X_train[1,:,:], cmap = plt.cm.binary)\n",
    "axarr[0][1].imshow(X_train[2,:,:], cmap = plt.cm.binary)\n",
    "axarr[1][0].imshow(X_train[3,:,:], cmap = plt.cm.binary)\n",
    "axarr[1][1].imshow(X_train[4,:,:], cmap = plt.cm.binary)\n",
    "\n",
    "# Combine all the operations and display\n",
    "plt.show()\n",
    "\n",
    "# Correct answers\n",
    "for i in range(1,5):\n",
    "    print(y_train[i])"
   ]
  },
  {
   "cell_type": "markdown",
   "metadata": {
    "id": "hmB9pZLkjqDq"
   },
   "source": [
    "# Reshape and Normalise\n",
    "In order to make sure that Keras could use our images, we need to reshape them into 1 dimension"
   ]
  },
  {
   "cell_type": "code",
   "execution_count": 51,
   "metadata": {
    "colab": {
     "base_uri": "https://localhost:8080/"
    },
    "id": "WyjPYKNCjEQE",
    "outputId": "fa54b583-ffe2-4628-8d36-7fe8dbd67c11"
   },
   "outputs": [
    {
     "data": {
      "text/plain": [
       "(60000, 784)"
      ]
     },
     "execution_count": 51,
     "metadata": {},
     "output_type": "execute_result"
    }
   ],
   "source": [
    "X_train = X_train.reshape((60000, 28*28))\n",
    "X_train = X_train.astype(\"float32\")/255\n",
    "X_train.shape"
   ]
  },
  {
   "cell_type": "code",
   "execution_count": 52,
   "metadata": {
    "colab": {
     "base_uri": "https://localhost:8080/"
    },
    "id": "MH3G5FHTkvuy",
    "outputId": "15add76c-cabc-43dc-bbfd-5ce722918253"
   },
   "outputs": [
    {
     "data": {
      "text/plain": [
       "(10000, 784)"
      ]
     },
     "execution_count": 52,
     "metadata": {},
     "output_type": "execute_result"
    }
   ],
   "source": [
    "X_test = X_test.reshape((10000, 28*28))\n",
    "X_test = X_test.astype(\"float32\")/255\n",
    "X_test.shape"
   ]
  },
  {
   "cell_type": "markdown",
   "metadata": {
    "id": "g4iBY72clWZy"
   },
   "source": [
    "# Encode the labels"
   ]
  },
  {
   "cell_type": "code",
   "execution_count": 53,
   "metadata": {
    "colab": {
     "base_uri": "https://localhost:8080/",
     "height": 183
    },
    "id": "95RSmD7UllGc",
    "outputId": "52f12a43-3dfd-4b45-faa0-84589119cd43"
   },
   "outputs": [],
   "source": [
    "y_train = to_categorical(y_train)\n",
    "y_test = to_categorical(y_test)"
   ]
  },
  {
   "cell_type": "markdown",
   "metadata": {
    "id": "g4iBY72clWZy"
   },
   "source": [
    "# Create and train a model"
   ]
  },
  {
   "cell_type": "code",
   "execution_count": 54,
   "metadata": {},
   "outputs": [],
   "source": [
    "model = models.Sequential()\n",
    "model.add(layers.Dense(512, activation = 'relu', input_shape = (28*28, )))\n",
    "model.add(layers.Dense(10, activation = 'softmax'))"
   ]
  },
  {
   "cell_type": "code",
   "execution_count": 55,
   "metadata": {},
   "outputs": [
    {
     "name": "stdout",
     "output_type": "stream",
     "text": [
      "Model: \"sequential_3\"\n",
      "_________________________________________________________________\n",
      " Layer (type)                Output Shape              Param #   \n",
      "=================================================================\n",
      " dense_6 (Dense)             (None, 512)               401920    \n",
      "                                                                 \n",
      " dense_7 (Dense)             (None, 10)                5130      \n",
      "                                                                 \n",
      "=================================================================\n",
      "Total params: 407,050\n",
      "Trainable params: 407,050\n",
      "Non-trainable params: 0\n",
      "_________________________________________________________________\n"
     ]
    }
   ],
   "source": [
    "model.summary()"
   ]
  },
  {
   "cell_type": "code",
   "execution_count": 56,
   "metadata": {},
   "outputs": [],
   "source": [
    "model.compile(optimizer=\"rmsprop\", loss = \"categorical_crossentropy\", metrics = [\"accuracy\"])"
   ]
  },
  {
   "cell_type": "code",
   "execution_count": 58,
   "metadata": {},
   "outputs": [
    {
     "name": "stdout",
     "output_type": "stream",
     "text": [
      "Epoch 1/10\n",
      "235/235 [==============================] - 3s 13ms/step - loss: 0.0243 - accuracy: 0.9931\n",
      "Epoch 2/10\n",
      "235/235 [==============================] - 3s 13ms/step - loss: 0.0186 - accuracy: 0.9953\n",
      "Epoch 3/10\n",
      "235/235 [==============================] - 3s 13ms/step - loss: 0.0148 - accuracy: 0.9961\n",
      "Epoch 4/10\n",
      "235/235 [==============================] - 3s 13ms/step - loss: 0.0112 - accuracy: 0.9969\n",
      "Epoch 5/10\n",
      "235/235 [==============================] - 3s 13ms/step - loss: 0.0085 - accuracy: 0.9979\n",
      "Epoch 6/10\n",
      "235/235 [==============================] - 3s 14ms/step - loss: 0.0067 - accuracy: 0.9984\n",
      "Epoch 7/10\n",
      "235/235 [==============================] - 5s 21ms/step - loss: 0.0052 - accuracy: 0.9989\n",
      "Epoch 8/10\n",
      "235/235 [==============================] - 4s 16ms/step - loss: 0.0040 - accuracy: 0.9991\n",
      "Epoch 9/10\n",
      "235/235 [==============================] - 5s 22ms/step - loss: 0.0031 - accuracy: 0.9994\n",
      "Epoch 10/10\n",
      "235/235 [==============================] - 6s 26ms/step - loss: 0.0025 - accuracy: 0.9995\n"
     ]
    },
    {
     "data": {
      "text/plain": [
       "<keras.callbacks.History at 0x238861e1e80>"
      ]
     },
     "execution_count": 58,
     "metadata": {},
     "output_type": "execute_result"
    }
   ],
   "source": [
    "model.fit(X_train, y_train, epochs=10, batch_size=256)"
   ]
  },
  {
   "cell_type": "markdown",
   "metadata": {
    "id": "g4iBY72clWZy"
   },
   "source": [
    "# Test the model"
   ]
  },
  {
   "cell_type": "code",
   "execution_count": 59,
   "metadata": {},
   "outputs": [
    {
     "name": "stdout",
     "output_type": "stream",
     "text": [
      "313/313 [==============================] - 1s 3ms/step - loss: 0.0763 - accuracy: 0.9814\n",
      "0.07626640796661377\n",
      "0.9814000129699707\n"
     ]
    }
   ],
   "source": [
    "test_loss, test_acc = model.evaluate(X_test, y_test)\n",
    "print(test_loss)\n",
    "print(test_acc)"
   ]
  }
 ],
 "metadata": {
  "colab": {
   "provenance": []
  },
  "kernelspec": {
   "display_name": "Python 3",
   "language": "python",
   "name": "python3"
  },
  "language_info": {
   "codemirror_mode": {
    "name": "ipython",
    "version": 3
   },
   "file_extension": ".py",
   "mimetype": "text/x-python",
   "name": "python",
   "nbconvert_exporter": "python",
   "pygments_lexer": "ipython3",
   "version": "3.8.8"
  }
 },
 "nbformat": 4,
 "nbformat_minor": 4
}
